{
 "cells": [
  {
   "cell_type": "code",
   "execution_count": 1,
   "metadata": {},
   "outputs": [],
   "source": [
    "import matplotlib.pyplot as plt\n",
    "import numpy as np\n",
    "import pathlib\n",
    "import pandas as pd\n",
    "import seaborn as sns\n",
    "import re\n",
    "import h5py\n",
    "\n",
    "from functools import reduce\n",
    "from itertools import combinations\n",
    "from ttt.utils import listfiles\n",
    "from mlr.database.utils import read_metadata, write_metadata\n",
    "from matplotlib import cm\n",
    "\n",
    "import ipywidgets as widgets\n",
    "from ipywidgets import (IntSlider, RadioButtons, SelectMultiple, Layout, Checkbox, fixed, interact, FloatRangeSlider, Button)\n",
    "from matplotlib.lines import Line2D"
   ]
  },
  {
   "cell_type": "code",
   "execution_count": 2,
   "metadata": {},
   "outputs": [],
   "source": [
    "def read_training_history(path):\n",
    "    history_file = h5py.File(path,'r')\n",
    "    history_dict = {x:np.array(y) for x, y in history_file.items()} \n",
    "    history_file.close()\n",
    "    return history_dict"
   ]
  },
  {
   "cell_type": "code",
   "execution_count": 3,
   "metadata": {},
   "outputs": [],
   "source": [
    "root_dir_base = pathlib.Path(\"/media/files/segmentation_networks/\")\n",
    "root_dirs = [root_dir_base.joinpath(\"substrate_networks_with_callbacks_2_8_2022\"),\n",
    "            root_dir_base.joinpath(\"transfer_learning_2_15_2022\")\n",
    "            ]\n",
    "\n",
    "root_dirs = [folder.joinpath(\"trained_models\") for folder in root_dirs]\n",
    "model_folders = [[x for x in listfiles(r) if x.is_dir()] for r in root_dirs]\n",
    "model_folders = reduce(lambda x,y: x+y, model_folders)"
   ]
  },
  {
   "cell_type": "code",
   "execution_count": 4,
   "metadata": {},
   "outputs": [],
   "source": [
    "## load all the metadata from the networks\n",
    "metadata_list = []\n",
    "for folder in model_folders:\n",
    "    try:\n",
    "        model_metadata = read_metadata(folder.joinpath(\"metadata.json\"))    \n",
    "    except:\n",
    "        continue\n",
    "    model_id = re.search(\"[0-9]+_[0-9]+\", str(folder).rsplit(\"/\")[-1])[0]\n",
    "    model_metadata[\"ID\"] = model_id\n",
    "\n",
    "    \n",
    "    if \"transfer\" in str(folder):    \n",
    "        tl = True\n",
    "        history_path = \"sm_unet_transferLearnWeights_\" + model_metadata[\"backbone\"]+\"_history.h5\"\n",
    "        history_dict = read_training_history(folder.joinpath(history_path))\n",
    "        model_metadata.update(history_dict)\n",
    "        model_metadata[\"best_val_f1\"] = history_dict[\"val_f1-score\"][np.argmin(history_dict[\"val_loss\"])]\n",
    "        model_metadata[\"best_CdSe_f1\"] = history_dict[\"CdSe_f1-score\"][np.argmin(history_dict[\"CdSe_loss\"])]\n",
    "        model_metadata[\"best_Kath_f1\"] = history_dict[\"Kath_f1-score\"][np.argmin(history_dict[\"Kath_loss\"])]\n",
    "        model_metadata[\"CdSe_f1_at_val_peak\"] = history_dict[\"CdSe_f1-score\"][np.argmin(history_dict[\"val_loss\"])]\n",
    "        model_metadata[\"Kath_f1_at_val_peak\"] = history_dict[\"Kath_f1-score\"][np.argmin(history_dict[\"val_loss\"])]\n",
    "        model_metadata[\"series\"] = \"transfer\"\n",
    "        model_metadata[\"epoch\"] = np.array([i/len(history_dict[\"val_f1-score\"]) for i in np.arange(len(history_dict[\"val_f1-score\"]))])\n",
    "    else:\n",
    "        tl = False\n",
    "        history_path = \"sm_unet_noPretrainWeights_\" + model_metadata[\"backbone\"]+\"_history.h5\"\n",
    "        history_dict = read_training_history(folder.joinpath(history_path))\n",
    "        model_metadata.update(history_dict)\n",
    "        model_metadata[\"series\"] = str(folder).rsplit(\"/\")[-3].split(\"_\")[0]\n",
    "    model_metadata[\"transfer_learned\"] = tl\n",
    "    model_metadata[\"folder\"] = folder\n",
    "    metadata_list.append(model_metadata)\n",
    "        \n",
    "df = pd.DataFrame(metadata_list)\n",
    "df = pd.concat([df, pd.DataFrame(df['schedule'].to_list(), columns = ['schedule_rate', 'schedule_timing'])], axis=1)"
   ]
  },
  {
   "cell_type": "code",
   "execution_count": 5,
   "metadata": {},
   "outputs": [],
   "source": [
    "baseline_IDs = list(df[df[\"series\"]==\"baseline\"][\"ID\"])\n",
    "small_IDs = list(df[df[\"series\"]==\"small\"][\"ID\"])\n",
    "sub_IDs = list(df[df[\"series\"]==\"substrate\"][\"ID\"])\n",
    "super_IDs =  list(df[df[\"series\"]==\"super\"][\"ID\"])\n",
    "\n",
    "def return_orig_series(o_ID):\n",
    "    if o_ID in baseline_IDs:\n",
    "        return \"baseline\"\n",
    "    elif o_ID in small_IDs:\n",
    "        return \"small\"\n",
    "    elif o_ID in sub_IDs:\n",
    "        return \"substrate\"\n",
    "    elif o_ID in super_IDs:\n",
    "        return \"super\"\n",
    "    else:\n",
    "        return None\n",
    "\n",
    "def reduce_wrap(X):\n",
    "    try:\n",
    "        return reduce(lambda x,y: x+y, X)\n",
    "    except:\n",
    "        return np.NAN"
   ]
  },
  {
   "cell_type": "code",
   "execution_count": 6,
   "metadata": {},
   "outputs": [],
   "source": [
    "df[\"orig_series\"] =  df[\"orig_model_ID\"].apply(return_orig_series)\n",
    "df[\"substrate_thicknesses_str\"] = df[\"substrate_thicknesses\"].apply(reduce_wrap)"
   ]
  },
  {
   "cell_type": "markdown",
   "metadata": {},
   "source": [
    "Baseline can be matched on target dose\n",
    "\n",
    "SmallNP can be matched on N_defocus and N_structures\n",
    "\n",
    "Substrate can be matched on substrate_thicknesses\n",
    "\n",
    "Super networks can be matched on schedule_rate and alpha_0\n",
    "\n",
    "these should be propagated to the transfer learned networks' metadata"
   ]
  },
  {
   "cell_type": "markdown",
   "metadata": {},
   "source": [
    "Visualizing transfer learning generalization and performance dynamics with training histories:\n",
    "\n",
    "For visualization:\n",
    "\n",
    "want a widget that has:\n",
    "- a slider for model ID selection [x]\n",
    "- a dropdown menu to select datasets [x]\n",
    "- a dropdown menu to select validation splits [x]\n",
    "- a radio button set to select normalization scheme [x]\n",
    "- a radio button to do either aggregate plotting (e.g., 5 faint lines per training base network) or averaged plotting (seaborn error bars?)\n",
    "- a checkbox to plot all models in filters (disables slider and plots all examples) [x]\n",
    "- checkbox to plot all models with same syntehtic training conditions [ ]\n",
    "\n",
    "\n",
    "Normalization can be either: \\\n",
    "A) fraction of best score achieved during transfer learning stage \\\n",
    "B) fraction of score before transfer learning \\\n",
    "C) fraction of max(A,B)"
   ]
  },
  {
   "cell_type": "code",
   "execution_count": 7,
   "metadata": {},
   "outputs": [
    {
     "name": "stdout",
     "output_type": "stream",
     "text": [
      "Index(['alpha_0', 'backbone', 'batch_size', 'exp_f1-score',\n",
      "       'exp_f1-score_CdSe', 'exp_f1-score_katherine', 'exp_iou',\n",
      "       'exp_iou_CdSe', 'exp_iou_katherine', 'exp_loss', 'exp_loss_CdSe',\n",
      "       'exp_loss_katherine', 'schedule', 'seed', 'substrate_thicknesses',\n",
      "       'target_dose', 'ID', 'CdSe_f1-score', 'CdSe_iou_score', 'CdSe_loss',\n",
      "       'Kate_f1-score', 'Kate_iou_score', 'Kate_loss', 'Kath_f1-score',\n",
      "       'Kath_iou_score', 'Kath_loss', 'f1-score', 'iou_score', 'loss', 'lr',\n",
      "       'val_f1-score', 'val_iou_score', 'val_loss', 'series',\n",
      "       'transfer_learned', 'folder', 'expt_generator_seed', 'expt_val_split',\n",
      "       'orig_model_ID', 'best_val_f1', 'best_CdSe_f1', 'best_Kath_f1',\n",
      "       'CdSe_f1_at_val_peak', 'Kath_f1_at_val_peak', 'epoch', 'schedule_rate',\n",
      "       'schedule_timing', 'orig_series', 'substrate_thicknesses_str'],\n",
      "      dtype='object')\n"
     ]
    }
   ],
   "source": [
    "print(df.columns)"
   ]
  },
  {
   "cell_type": "markdown",
   "metadata": {},
   "source": [
    "## Figure 2 for M&M abstract\n",
    "\n",
    "single panel figure\n",
    "\n",
    "plot of training dynamics \n",
    "-> want to convey that transfer learning will decrease and then saturate performance\n",
    "-> want to convey that simulated training is super easy\n",
    "x-axis epoch\n",
    "y-axis dice score/training loss\n",
    "\n",
    "want to convey differences for a network over different experimental data amounts - 0.2, 0.5, 0.8?"
   ]
  },
  {
   "cell_type": "code",
   "execution_count": 8,
   "metadata": {},
   "outputs": [
    {
     "data": {
      "text/plain": [
       "75      5787009891_20220209\n",
       "76     48081987090_20220209\n",
       "77      5787009891_20220209\n",
       "78      5787009891_20220209\n",
       "79     46333690169_20220209\n",
       "               ...         \n",
       "445    21708410207_20220209\n",
       "446    21708410207_20220209\n",
       "447     3723747683_20220210\n",
       "448     3723747683_20220210\n",
       "449    21708410207_20220209\n",
       "Name: orig_model_ID, Length: 375, dtype: object"
      ]
     },
     "execution_count": 8,
     "metadata": {},
     "output_type": "execute_result"
    }
   ],
   "source": [
    "df[df[\"transfer_learned\"]==True][\"orig_model_ID\"]"
   ]
  },
  {
   "cell_type": "code",
   "execution_count": 9,
   "metadata": {},
   "outputs": [
    {
     "data": {
      "text/plain": [
       "<AxesSubplot:xlabel='exp_f1-score', ylabel='Count'>"
      ]
     },
     "execution_count": 9,
     "metadata": {},
     "output_type": "execute_result"
    },
    {
     "data": {
      "image/png": "[encoded data removed]",
      "text/plain": [
       "<Figure size 432x288 with 1 Axes>"
      ]
     },
     "metadata": {
      "needs_background": "light"
     },
     "output_type": "display_data"
    }
   ],
   "source": [
    "sns.histplot(df[df[\"transfer_learned\"]==False][\"exp_f1-score\"], binwidth=0.02)"
   ]
  },
  {
   "cell_type": "code",
   "execution_count": 10,
   "metadata": {},
   "outputs": [
    {
     "data": {
      "text/plain": [
       "Index(['alpha_0', 'backbone', 'batch_size', 'exp_f1-score',\n",
       "       'exp_f1-score_CdSe', 'exp_f1-score_katherine', 'exp_iou',\n",
       "       'exp_iou_CdSe', 'exp_iou_katherine', 'exp_loss', 'exp_loss_CdSe',\n",
       "       'exp_loss_katherine', 'schedule', 'seed', 'substrate_thicknesses',\n",
       "       'target_dose', 'ID', 'CdSe_f1-score', 'CdSe_iou_score', 'CdSe_loss',\n",
       "       'Kate_f1-score', 'Kate_iou_score', 'Kate_loss', 'Kath_f1-score',\n",
       "       'Kath_iou_score', 'Kath_loss', 'f1-score', 'iou_score', 'loss', 'lr',\n",
       "       'val_f1-score', 'val_iou_score', 'val_loss', 'series',\n",
       "       'transfer_learned', 'folder', 'expt_generator_seed', 'expt_val_split',\n",
       "       'orig_model_ID', 'best_val_f1', 'best_CdSe_f1', 'best_Kath_f1',\n",
       "       'CdSe_f1_at_val_peak', 'Kath_f1_at_val_peak', 'epoch', 'schedule_rate',\n",
       "       'schedule_timing', 'orig_series', 'substrate_thicknesses_str'],\n",
       "      dtype='object')"
      ]
     },
     "execution_count": 10,
     "metadata": {},
     "output_type": "execute_result"
    }
   ],
   "source": [
    "df[df[\"ID\"] == df[df[\"transfer_learned\"]==True].iloc[0][\"orig_model_ID\"]].columns"
   ]
  },
  {
   "cell_type": "code",
   "execution_count": 11,
   "metadata": {},
   "outputs": [],
   "source": [
    "class palette_map:\n",
    "    def __init__(self, color_dict):\n",
    "        self.colors = color_dict\n",
    "\n",
    "    def __getitem__(self, indices):\n",
    "        if isinstance(indices, tuple):\n",
    "            return self.colors[indices[0]][indices[1]]\n",
    "        else:\n",
    "            tmp_idx = len(self.colors[indices])//2\n",
    "            return self.colors[indices][tmp_idx]"
   ]
  },
  {
   "cell_type": "code",
   "execution_count": 12,
   "metadata": {},
   "outputs": [
    {
     "data": {
      "text/plain": [
       "(0.0, 1.0)"
      ]
     },
     "execution_count": 12,
     "metadata": {},
     "output_type": "execute_result"
    },
    {
     "data": {
      "image/png": "[encoded data removed]",
      "text/plain": [
       "<Figure size 1152x576 with 1 Axes>"
      ]
     },
     "metadata": {
      "needs_background": "light"
     },
     "output_type": "display_data"
    }
   ],
   "source": [
    "transfer_df = df[df[\"transfer_learned\"]==True]\n",
    "synth_df = df[df[\"transfer_learned\"]==False]\n",
    "\n",
    "## choose a model and reduce dataframes appropriately\n",
    "target_model_N = 0\n",
    "sim_model_row = synth_df.iloc[target_model_N]\n",
    "target_orig_ID = sim_model_row[\"ID\"]\n",
    "tr_model_rows = transfer_df[transfer_df[\"orig_model_ID\"]==target_orig_ID]\n",
    "\n",
    "## aggregate data into plotting dictionaries\n",
    "s_hist = {}\n",
    "t_hist = {}\n",
    "\n",
    "\n",
    "s_hist[\"sim_train_loss\"] = sim_model_row[\"loss\"]\n",
    "s_hist[\"sim_val_loss\"] = sim_model_row[\"val_loss\"]\n",
    "\n",
    "s_hist[\"sim_train_f1\"] = sim_model_row[\"f1-score\"]\n",
    "s_hist[\"sim_val_f1\"] = sim_model_row[\"val_f1-score\"]\n",
    "\n",
    "s_hist[\"large_loss\"] = sim_model_row[\"Kate_loss\"]\n",
    "s_hist[\"small_loss\"] = sim_model_row[\"Kath_loss\"]\n",
    "s_hist[\"cdse_loss\"] = sim_model_row[\"CdSe_loss\"]\n",
    "\n",
    "s_hist[\"large_f1\"] = sim_model_row[\"Kate_f1-score\"]\n",
    "s_hist[\"small_f1\"] = sim_model_row[\"Kath_f1-score\"]\n",
    "s_hist[\"cdse_f1\"] = sim_model_row[\"CdSe_f1-score\"]\n",
    "\n",
    "\n",
    "splits = [0.2, 0.4, 0.5, 0.6, 0.8]\n",
    "for split in splits:\n",
    "    row = tr_model_rows.loc[tr_model_rows[\"expt_val_split\"]==split].iloc[0]\n",
    "    t_hist[split] = {\"loss\":row[\"loss\"],\n",
    "                    \"f1\":row[\"f1-score\"],\n",
    "                    \"large_f1\":row[\"val_f1-score\"],\n",
    "                    \"small_f1\":row[\"Kath_f1-score\"],\n",
    "                    \"cdse_f1\":row[\"CdSe_f1-score\"],\n",
    "                    \"large_loss\":row[\"val_loss\"],\n",
    "                    \"small_loss\":row[\"Kath_loss\"],\n",
    "                    \"cdse_loss\":row[\"CdSe_loss\"],\n",
    "                    }\n",
    "\n",
    "## grab the epoch where transfer learnign effectively begins\n",
    "tr_epoch = int(np.argmin(s_hist[\"sim_val_loss\"]))\n",
    "s_hist[\"x\"] = [int(x) for x in range(tr_epoch+1)]\n",
    "\n",
    "for split in splits:\n",
    "    t_hist[split][\"x\"] = [int(x+tr_epoch+1) for x in range(len(t_hist[split][\"loss\"]))]\n",
    "\n",
    "#### Make figure\n",
    "fig = plt.figure(figsize=(16,8))\n",
    "ax = fig.gca()\n",
    "\n",
    "ax.axvline(tr_epoch, linestyle=\"--\", linewidth=1.0, color=\"k\")\n",
    "data_keys = [\"large_f1\", \"small_f1\", \"cdse_f1\"]\n",
    "\n",
    "ax.set_ylabel(\"Dice Score\")\n",
    "ax.set_xlabel(\"Epoch\")\n",
    "\n",
    "greens = sns.color_palette(\"Greens\", n_colors=8)[3:]\n",
    "oranges = sns.color_palette(\"Oranges\", n_colors=8)[3:]\n",
    "blues = sns.color_palette(\"Blues\", n_colors=8)[3:]\n",
    "\n",
    "p_map = palette_map({key:val for key, val in zip(data_keys, [blues, oranges, greens])})\n",
    "p_map.colors[\"f1\"] = blues\n",
    "\n",
    "hues = {x:i for i,x in enumerate(splits[::-1])}\n",
    "\n",
    "\n",
    "p_splits = [0.2, 0.8]\n",
    "for split in p_splits:\n",
    "    t_connect_x = np.concatenate([[s_hist[\"x\"][-1]], t_hist[split][\"x\"]])\n",
    "\n",
    "    for key in data_keys:\n",
    "        ax.plot(s_hist[\"x\"], s_hist[key], linewidth=2, color=p_map[key])\n",
    "        t_connect_y =  np.concatenate([[s_hist[key][-1]], t_hist[split][key]])\n",
    "\n",
    "        # ax.plot(t_hist[split][\"x\"], t_hist[split][key], color=color_dict[key])\n",
    "        ax.plot(t_connect_x, t_connect_y, linewidth=2, color=p_map[key, hues[split]])\n",
    "\n",
    "        t_connect_y =  np.concatenate([[s_hist[key][-1]], t_hist[split][\"f1\"]])\n",
    "        ax.plot(t_connect_x, t_connect_y, linestyle=\":\", linewidth=1, color=p_map[\"f1\", hues[split]])\n",
    "\n",
    "ax.set_xlim([0, t_hist[0.2][\"x\"][-1]])\n",
    "ax.set_ylim([0,1])"
   ]
  },
  {
   "cell_type": "markdown",
   "metadata": {},
   "source": [
    "### Making widget"
   ]
  },
  {
   "cell_type": "code",
   "execution_count": 13,
   "metadata": {},
   "outputs": [
    {
     "data": {
      "text/plain": [
       "74"
      ]
     },
     "execution_count": 13,
     "metadata": {},
     "output_type": "execute_result"
    }
   ],
   "source": [
    "len(synth_df)-1"
   ]
  },
  {
   "cell_type": "code",
   "execution_count": 16,
   "metadata": {},
   "outputs": [],
   "source": [
    "global save_the_figure\n",
    "save_the_figure = False\n",
    "\n",
    "def plot_data(data_frame, **kwargs):\n",
    "    global save_the_figure\n",
    "    save_the_figure = kwargs[\"save\"]\n",
    "    \n",
    "    transfer_df = data_frame[data_frame[\"transfer_learned\"]==True]\n",
    "    synth_df =    data_frame[data_frame[\"transfer_learned\"]==False]\n",
    "\n",
    "    ## choose a model and reduce dataframes appropriately\n",
    "    target_model_N = kwargs[\"target_model_N\"]\n",
    "    sim_model_row = synth_df.iloc[target_model_N]\n",
    "    target_orig_ID = sim_model_row[\"ID\"]\n",
    "    tr_model_rows = transfer_df[transfer_df[\"orig_model_ID\"]==target_orig_ID]\n",
    "\n",
    "    print(target_orig_ID)\n",
    "    ## aggregate data into plotting dictionaries\n",
    "    s_hist = {}\n",
    "    t_hist = {}\n",
    "\n",
    "    s_hist[\"sim_train_loss\"] = sim_model_row[\"loss\"]\n",
    "    s_hist[\"sim_val_loss\"] = sim_model_row[\"val_loss\"]\n",
    "\n",
    "    s_hist[\"sim_train_f1\"] = sim_model_row[\"f1-score\"]\n",
    "    s_hist[\"sim_val_f1\"] = sim_model_row[\"val_f1-score\"]\n",
    "\n",
    "    s_hist[\"large_loss\"] = sim_model_row[\"Kate_loss\"]\n",
    "    s_hist[\"small_loss\"] = sim_model_row[\"Kath_loss\"]\n",
    "    s_hist[\"cdse_loss\"] = sim_model_row[\"CdSe_loss\"]\n",
    "\n",
    "    s_hist[\"large_f1\"] = sim_model_row[\"Kate_f1-score\"]\n",
    "    s_hist[\"small_f1\"] = sim_model_row[\"Kath_f1-score\"]\n",
    "    s_hist[\"cdse_f1\"] = sim_model_row[\"CdSe_f1-score\"]\n",
    "\n",
    "\n",
    "    splits = kwargs[\"splits\"]\n",
    "    for split in splits:\n",
    "        row = tr_model_rows.loc[tr_model_rows[\"expt_val_split\"]==split].iloc[0]\n",
    "        t_hist[split] = {\"loss\":row[\"loss\"],\n",
    "                        \"f1\":row[\"f1-score\"],\n",
    "                        \"large_f1\":row[\"val_f1-score\"],\n",
    "                        \"small_f1\":row[\"Kath_f1-score\"],\n",
    "                        \"cdse_f1\":row[\"CdSe_f1-score\"],\n",
    "                        \"large_loss\":row[\"val_loss\"],\n",
    "                        \"small_loss\":row[\"Kath_loss\"],\n",
    "                        \"cdse_loss\":row[\"CdSe_loss\"],\n",
    "                        }\n",
    "\n",
    "    ## grab the epoch where transfer learnign effectively begins\n",
    "    tr_epoch = int(np.argmin(s_hist[\"sim_val_loss\"]))\n",
    "    s_hist[\"x\"] = [int(x) for x in range(tr_epoch+1)]\n",
    "\n",
    "    for split in splits:\n",
    "        t_hist[split][\"x\"] = [int(x+tr_epoch+1) for x in range(len(t_hist[split][\"loss\"]))]\n",
    "\n",
    "    #### Make figure\n",
    "    fig = plt.figure(figsize=(16,8), facecolor=\"w\")\n",
    "    ax = fig.gca()\n",
    "\n",
    "    ax.axvline(tr_epoch+0.5, linestyle=\"--\", linewidth=1.5, color=\"gray\")\n",
    "\n",
    "    if kwargs[\"metric\"] == \"Loss\":\n",
    "        metric = \"_loss\"\n",
    "        tt_metric = \"loss\"\n",
    "    else:\n",
    "        metric = \"_f1\"\n",
    "        tt_metric = \"f1\"\n",
    "    \n",
    "    data_base = [\"large\", \"small\", \"cdse\"]\n",
    "    data_filters = [x.split()[0].lower() for x in kwargs[\"exp_datasets\"]]\n",
    "    data_keys = [x+metric for x in data_base if x in data_filters]\n",
    "    data_labels = [x for x in data_base if x in data_filters]\n",
    "\n",
    "    ax.set_xlabel(\"Epoch\", fontsize=14)\n",
    "    if kwargs[\"metric\"] == \"Loss\":\n",
    "        ax.set_ylabel(\"Loss\", fontsize=14)\n",
    "    else:\n",
    "        ax.set_ylabel(\"Dice Score\", fontsize=14)\n",
    "\n",
    "    greens = sns.color_palette(\"Greens\", n_colors=8)[3:]\n",
    "    oranges = sns.color_palette(\"Oranges\", n_colors=8)[3:]\n",
    "    blues = sns.color_palette(\"Blues\", n_colors=8)[3:]\n",
    "    purples = sns.color_palette(\"Purples\", n_colors=8)[3:]\n",
    "\n",
    "    data_color_keys = [x+metric for x in data_base]\n",
    "    p_map = palette_map({key:val for key, val in zip(data_color_keys, [blues, oranges, greens])})\n",
    "    p_map.colors[tt_metric] = blues\n",
    "    p_map.colors[\"sim\"] = purples\n",
    "\n",
    "    perm_splits = [0.2, 0.4, 0.5, 0.6, 0.8]\n",
    "    hues = {x:i for i,x in enumerate(perm_splits)}\n",
    "\n",
    "    if kwargs[\"plot_sim_metric\"]:\n",
    "        ax.plot(s_hist[\"x\"], s_hist[\"sim_val\"+metric][:tr_epoch+1], linewidth=2, color=p_map[\"sim\"])\n",
    "\n",
    "        if kwargs[\"plot_tt_metric\"]:\n",
    "            ax.plot(s_hist[\"x\"], s_hist[\"sim_train\"+metric][:tr_epoch+1],  linestyle=(0, (5,5)), linewidth=2, color=p_map[\"sim\"])\n",
    "\n",
    "\n",
    "    for split in kwargs[\"splits\"]:\n",
    "        t_connect_x = np.concatenate([[s_hist[\"x\"][-1]], t_hist[split][\"x\"]])\n",
    "\n",
    "        for key in data_keys:\n",
    "            ax.plot(s_hist[\"x\"], s_hist[key][:tr_epoch+1], linewidth=2, color=p_map[key])\n",
    "            t_connect_y =  np.concatenate([[s_hist[key][tr_epoch]], t_hist[split][key]])\n",
    "\n",
    "            # ax.plot(t_hist[split][\"x\"], t_hist[split][key], color=p_map[key, hues[split]])\n",
    "            ax.plot(t_connect_x, t_connect_y, linewidth=2, color=p_map[key, hues[split]])\n",
    "\n",
    "            if kwargs[\"plot_tt_metric\"]:\n",
    "                t_connect_y =  np.concatenate([[s_hist[\"large\"+metric][tr_epoch]], t_hist[split][tt_metric]])\n",
    "                # ax.plot(t_hist[split][\"x\"], t_hist[split][tt_metric], linestyle=(0, (5,5)), linewidth=2, color=p_map[tt_metric, hues[split]])\n",
    "                ax.plot(t_connect_x, t_connect_y, linestyle=(0, (5,5)), linewidth=2, color=p_map[tt_metric, hues[split]])\n",
    "\n",
    "    \n",
    "\n",
    "    x_max = 0\n",
    "    for split in kwargs[\"splits\"]:\n",
    "        tx_max = t_hist[split][\"x\"][-1]\n",
    "        x_max = tx_max if tx_max > x_max else x_max\n",
    "    ax.set_xlim([0, x_max])\n",
    "    ax.set_ylim([0, kwargs[\"y_range\"]])\n",
    "    ax.grid()\n",
    "    ax.text(x=tr_epoch+4.5, y=0.1, s=\"Training on Large Au NP data\", fontsize=14, ha=\"left\")\n",
    "    ax.text(x=(tr_epoch-2.5)/x_max, y=0.1, s=\"Training on Simulated Au NP Data\", fontsize=14, ha=\"right\", transform=ax.transAxes)\n",
    "    ax.text(x=(tr_epoch+0.5)/x_max, y=0.1, s=\"Transfer Learning Begins\", rotation=90, fontsize=14, va=\"bottom\", ha=\"right\", transform=ax.transAxes)\n",
    "\n",
    "    # custom_lines = [Line2D([0], [0], color=p_map[key], lw=2) for key in data_keys]\n",
    "\n",
    "    label_map = {\"large\":\"Large Au NPs\", \"small\":\"Small Au NPs\", \"cdse\":\"CdSe NPs\"}\n",
    "    custom_labels = [label_map[x] for x in data_labels]\n",
    "\n",
    "    # if kwargs[\"plot_tt_metric\"]:\n",
    "    #     custom_lines = [Line2D([0], [0], color=p_map[tt_metric], lw=2, linestyle=(0,(3,3)))] + custom_lines\n",
    "    #     custom_labels = [\"Training Data\"] + custom_labels\n",
    "        \n",
    "    # if kwargs[\"plot_sim_metric\"]:\n",
    "    #     custom_lines = [Line2D([0], [0], color=p_map[\"sim\"], lw=2)] + custom_lines\n",
    "    #     custom_labels = [\"Simulated Data\"] + custom_labels\n",
    "\n",
    "    # ax.legend(custom_lines, custom_labels, loc=\"upper left\", bbox_to_anchor=(1.0, 1.0))\n",
    "\n",
    "    ## making a cursed custom legend\n",
    "    w = 0.0125*x_max # width and height\n",
    "    h = 0.02\n",
    "    \n",
    "    xs = w*1.5\n",
    "    ys = h*1.5\n",
    "\n",
    "    xl = x_max+1 # left and right edges\n",
    "    yt = 0.95\n",
    "\n",
    "    ax.add_patch(plt.Rectangle((xl, yt), 2*w, 0.25*h, facecolor=\"k\",\n",
    "                                clip_on=False, linewidth = 0))\n",
    "\n",
    "    ax.text(x=xl+1.75*xs, y=yt, s=\"Validation Data\", ha=\"left\", va=\"center\")\n",
    "\n",
    "    yt -= 1.5*ys\n",
    "\n",
    "    if kwargs[\"plot_tt_metric\"]:\n",
    "        ax.add_patch(plt.Rectangle((xl, yt), 0.67*w, 0.25*h, facecolor=\"k\",\n",
    "                                    clip_on=False, linewidth = 0))\n",
    "\n",
    "        ax.add_patch(plt.Rectangle((xl+(4/3)*w, yt), 0.67*w, 0.25*h, facecolor=\"k\",\n",
    "                                    clip_on=False, linewidth = 0))\n",
    "\n",
    "        ax.text(x=xl+1.75*xs, y=yt, s=\"Training Data\", ha=\"left\", va=\"center\")\n",
    "        \n",
    "        yt -= 2*ys\n",
    "    else:\n",
    "        yt -= 0.5*ys\n",
    "\n",
    "    if kwargs[\"plot_sim_metric\"]:\n",
    "        ax.add_patch(plt.Rectangle((xl+((len(kwargs[\"splits\"])-1)*xs), yt), w, h, facecolor=p_map[\"sim\"],\n",
    "                                clip_on=False, linewidth = 0))\n",
    "        ax.text(x=xl+len(kwargs[\"splits\"])*xs, y=yt+ys/4, s=\"Simulated Data\", ha=\"left\", va=\"center\")\n",
    "        yt -= ys\n",
    "\n",
    "    for key, label in zip(data_keys, custom_labels):\n",
    "        for i, split in enumerate(kwargs[\"splits\"][::-1]):\n",
    "            ax.add_patch(plt.Rectangle((xl+i*xs, yt), w, h, facecolor=p_map[key, hues[split]],\n",
    "                                    clip_on=False, linewidth = 0))\n",
    "        ax.text(x=xl+len(kwargs[\"splits\"])*xs, y=yt+ys/4, s=label, ha=\"left\", va=\"center\")\n",
    "        yt -= ys\n",
    "\n",
    "    if len(kwargs[\"splits\"]) > 1:\n",
    "        theta = -50\n",
    "        yt += ys/2\n",
    "        ax.text(x=xl, y=yt, s=\"Less Data\", rotation=theta, ha=\"left\", va=\"top\")\n",
    "        ax.text(x=xl+(len(kwargs[\"splits\"])-1)*xs, y=yt, s=\"More Data\", rotation=theta, ha=\"left\", va=\"top\")\n",
    "        \n",
    "    plt.show()\n",
    "\n",
    "    if save_the_figure:\n",
    "        fig.savefig(kwargs[\"fname\"], dpi=300, bbox_inches=\"tight\")\n",
    "\n",
    "def plot_widget(data_frame):\n",
    "    w_metric =RadioButtons(\n",
    "                options=['f1 Score', 'Loss'],\n",
    "                description='Metric',\n",
    "                disabled=False\n",
    "            )\n",
    "\n",
    "    w_split_filter = SelectMultiple(\n",
    "        options=[0.2, 0.4, 0.5, 0.6, 0.8],\n",
    "        value=(0.2,),\n",
    "        description='Val. Data Split',\n",
    "        disabled=False,\n",
    "    )\n",
    "\n",
    "    w_exp_filter = SelectMultiple(\n",
    "        options=['Large Au', 'Small Au', 'CdSe'],\n",
    "        value=('Large Au', 'Small Au', 'CdSe'),\n",
    "        description='Exp. Dataset',\n",
    "        disabled=False,\n",
    "    )\n",
    "\n",
    "    w_line_select = IntSlider(value=0, min=0, max=74, description=\"Model #\")\n",
    "\n",
    "    w_plot_train = Checkbox(value=False, description=\"Plot training metrics.\")\n",
    "    w_plot_train_sim = Checkbox(value=False, description=\"Plot simulated data metrics.\")\n",
    "\n",
    "    w_y_range = widgets.FloatText(\n",
    "                            value=1.0,\n",
    "                            description='y-max:',\n",
    "                            disabled=False\n",
    "                        )\n",
    "\n",
    "    w_filename = widgets.Text(\n",
    "                    value='output.png',\n",
    "                    description='Filename:',\n",
    "                    disabled=False\n",
    "                )\n",
    "\n",
    "    w_save_fig = Checkbox(value=False, description=\"Click to save figure!\")\n",
    "\n",
    "    return interact(plot_data, data_frame=fixed(data_frame),\n",
    "                            target_model_N=w_line_select,\n",
    "                            splits=w_split_filter,\n",
    "                            exp_datasets=w_exp_filter,\n",
    "                            plot_tt_metric=w_plot_train,\n",
    "                            plot_sim_metric=w_plot_train_sim,\n",
    "                            metric=w_metric,\n",
    "                            y_range=w_y_range,\n",
    "                            fname=w_filename,\n",
    "                            save=w_save_fig)"
   ]
  },
  {
   "cell_type": "code",
   "execution_count": 17,
   "metadata": {},
   "outputs": [
    {
     "data": {
      "application/vnd.jupyter.widget-view+json": {
       "model_id": "9bc6c789db264d0aae51ea54390f9952",
       "version_major": 2,
       "version_minor": 0
      },
      "text/plain": [
       "interactive(children=(IntSlider(value=0, description='Model #', max=74), SelectMultiple(description='Val. Data…"
      ]
     },
     "metadata": {},
     "output_type": "display_data"
    }
   ],
   "source": [
    "W=plot_widget(df)\n",
    "\n",
    "saver = W.widget.children[-2]\n",
    "\n",
    "def on_value_change(change):\n",
    "    saver.value = False\n",
    "\n",
    "saver.observe(on_value_change, names=\"value\")"
   ]
  },
  {
   "cell_type": "code",
   "execution_count": null,
   "metadata": {},
   "outputs": [],
   "source": []
  }
 ],
 "metadata": {
  "interpreter": {
   "hash": "e5a95364771b75b43ed7d376f561a8b7af4a99cf935179260fe8e22ddd449456"
  },
  "kernelspec": {
   "display_name": "Python [conda env:dev]",
   "language": "python",
   "name": "python3"
  },
  "language_info": {
   "codemirror_mode": {
    "name": "ipython",
    "version": 3
   },
   "file_extension": ".py",
   "mimetype": "text/x-python",
   "name": "python",
   "nbconvert_exporter": "python",
   "pygments_lexer": "ipython3",
   "version": "3.7.11"
  }
 },
 "nbformat": 4,
 "nbformat_minor": 4
}
